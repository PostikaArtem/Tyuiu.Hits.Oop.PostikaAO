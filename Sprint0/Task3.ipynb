{
 "cells": [
  {
   "cell_type": "markdown",
   "metadata": {},
   "source": [
    "<h1 style=\"color:DodgerBlue\">Индивидальный проект</h1>"
   ]
  },
  {
   "cell_type": "markdown",
   "metadata": {},
   "source": [
    "<h2 style=\"color:DodgerBlue\">Название проекта:</h2>\n",
    "\n",
    "----\n",
    "\n",
    "### Вариант задания 14\n"
   ]
  },
  {
   "cell_type": "markdown",
   "metadata": {},
   "source": [
    "<h2 style=\"color:DodgerBlue\">Описание проекта:</h2>\n",
    "\n",
    "----\n",
    "\n",
    "Создать базовый класс Supplier в C#, который будет представлять информацию о\n",
    "поставщиках товаров или услуг. На основе этого класса разработать 2-3\n",
    "производных класса, демонстрирующих принципы наследования и полиморфизма.\n",
    "В каждом из классов должны быть реализованы новые атрибуты и методы, а также\n",
    "переопределены некоторые методы базового класса для демонстрации\n",
    "полиморфизма.\n",
    "\n"
   ]
  },
  {
   "cell_type": "markdown",
   "metadata": {},
   "source": [
    "<h2 style=\"color:DodgerBlue\">Реализация:</h2>\n",
    "\n",
    "----"
   ]
  },
  {
   "cell_type": "code",
   "execution_count": 2,
   "metadata": {
    "dotnet_interactive": {
     "language": "csharp"
    },
    "polyglot_notebook": {
     "kernelName": "csharp"
    }
   },
   "outputs": [
    {
     "name": "stdout",
     "output_type": "stream",
     "text": [
      "Название поставщика - Transtar\n",
      "Сайт компании - www.transtar.ru\n",
      "Контактный номер телефона - 89386784532\n",
      "Номер телефона - 89386784532\n",
      "..............Данные после обработки..............\n",
      "Название поставщика - TransPlanet\n",
      "Сайт компании - www.transtar.ru\n",
      "Контактный номер телефона - 89386784532\n",
      "\n",
      "Название поставщика - Кабан72\n",
      "Сайт компании - www.kabanfood72.ru\n",
      "Контактный номер телефона - 89265788334\n",
      "Срок годности продукта - 1 лет\n",
      "Срок годности закончится в 2025 году\n",
      "Номер телефона - 89265788334\n",
      "..............Данные после обработки..............\n",
      "Название поставщика - Свинья72\n",
      "Сайт компании - www.kabanfood72.ru\n",
      "Контактный номер телефона - 89265788334\n",
      "Срок годности продукта - 1 лет\n",
      "\n",
      "Название поставщика - Строй Дом\n",
      "Сайт компании - www.stroydom.ru\n",
      "Контактный номер телефона - 89653458723\n",
      "Вес строительного материала - 1254.5 кг\n",
      "Тип строительного материала - дерево\n",
      "Данный материал подходит для транспортировки\n",
      "Номер телефона - 89653458723\n",
      "..............Данные после обработки..............\n",
      "Название поставщика - Cтроитель\n",
      "Сайт компании - www.stroydom.ru\n",
      "Контактный номер телефона - 89653458723\n",
      "Вес строительного материала - 1254.5 кг\n",
      "Тип строительного материала - дерево\n"
     ]
    }
   ],
   "source": [
    "using System;\n",
    "\n",
    " public class Supplier\n",
    "{\n",
    "   public string Name;\n",
    "   public string Site;\n",
    "   public string Number;\n",
    "\n",
    "   public Supplier(string name, string site, string number)\n",
    "   {\n",
    "     Name = name;\n",
    "     Site = site;\n",
    "     Number = number;\n",
    "   }\n",
    "\n",
    "   public virtual void GetInfo()\n",
    "   {\n",
    "    Console.WriteLine($\"Название поставщика - {Name}\");\n",
    "    Console.WriteLine($\"Сайт компании - {Site}\");\n",
    "    Console.WriteLine($\"Контактный номер телефона - {Number}\");\n",
    "   }\n",
    "\n",
    "   public virtual void ReplaceName(string name)\n",
    "   {\n",
    "    Name = name;\n",
    "   }\n",
    "\n",
    "   public virtual void PrintNumber()\n",
    "   {\n",
    "    Console.WriteLine($\"Номер телефона - {Number}\");\n",
    "   }\n",
    "}\n",
    "\n",
    "public class Food: Supplier\n",
    "{\n",
    "  public int ExpirationDate;\n",
    "\n",
    "  public Food(string name, string site, string number, int date) : base(name, site, number)\n",
    "  {\n",
    "    ExpirationDate = date;\n",
    "  }\n",
    "\n",
    "  public override void GetInfo()\n",
    "  {\n",
    "    Console.WriteLine($\"Название поставщика - {Name}\");\n",
    "    Console.WriteLine($\"Сайт компании - {Site}\");\n",
    "    Console.WriteLine($\"Контактный номер телефона - {Number}\");\n",
    "    Console.WriteLine($\"Срок годности продукта - {ExpirationDate} лет\");\n",
    "  }\n",
    "\n",
    "  public void OverDate()\n",
    "  {\n",
    "    int result = DateTime.Now.Year;\n",
    "    result += ExpirationDate;\n",
    "    \n",
    "    Console.WriteLine($\"Срок годности закончится в {result} году\");\n",
    "  }\n",
    "}\n",
    "\n",
    "public class BuildingMaterial: Supplier\n",
    "{\n",
    "  public double Weight;\n",
    "  public string Type;\n",
    "\n",
    "  public BuildingMaterial(string name, string site, string number, double weight, string type) : base( name, site, number)\n",
    "  {\n",
    "    Weight = weight;\n",
    "    Type = type;\n",
    "  }\n",
    "\n",
    "  public override void GetInfo()\n",
    "  {\n",
    "    Console.WriteLine($\"Название поставщика - {Name}\");\n",
    "    Console.WriteLine($\"Сайт компании - {Site}\");\n",
    "    Console.WriteLine($\"Контактный номер телефона - {Number}\");\n",
    "    Console.WriteLine($\"Вес строительного материала - {Weight} кг\");\n",
    "    Console.WriteLine($\"Тип строительного материала - {Type}\");\n",
    "  }\n",
    "\n",
    "  public void NecessaryWeight()\n",
    "  {\n",
    "    if(Weight < 1300.0)\n",
    "    {\n",
    "      Console.WriteLine($\"Данный материал подходит для транспортировки\");\n",
    "    }\n",
    "    else\n",
    "    {\n",
    "      Console.WriteLine($\"Данный материал не подходит для транспортировки\");\n",
    "    }\n",
    "  }\n",
    "}\n",
    "\n",
    "Supplier sup = new Supplier(\"Transtar\", \"www.transtar.ru\", \"89386784532\");\n",
    "Food foo = new Food(\"Кабан72\", \"www.kabanfood72.ru\", \"89265788334\", 1);\n",
    "BuildingMaterial bilMat = new BuildingMaterial(\"Строй Дом\", \"www.stroydom.ru\", \"89653458723\", 1254.5, \"дерево\");\n",
    "\n",
    "sup.GetInfo();\n",
    "sup.ReplaceName(\"TransPlanet\");\n",
    "sup.PrintNumber();\n",
    "Console.WriteLine(\"..............Данные после обработки..............\");\n",
    "sup.GetInfo();\n",
    "Console.WriteLine();\n",
    "\n",
    "foo.GetInfo();\n",
    "foo.OverDate();\n",
    "foo.ReplaceName(\"Свинья72\");\n",
    "foo.PrintNumber();\n",
    "Console.WriteLine(\"..............Данные после обработки..............\");\n",
    "foo.GetInfo();\n",
    "Console.WriteLine();\n",
    "\n",
    "bilMat.GetInfo();\n",
    "bilMat.NecessaryWeight();\n",
    "bilMat.ReplaceName(\"Cтроитель\");\n",
    "bilMat.PrintNumber();\n",
    "Console.WriteLine(\"..............Данные после обработки..............\");\n",
    "bilMat.GetInfo();\n"
   ]
  }
 ],
 "metadata": {
  "kernelspec": {
   "display_name": ".NET (C#)",
   "language": "C#",
   "name": ".net-csharp"
  },
  "polyglot_notebook": {
   "kernelInfo": {
    "defaultKernelName": "csharp",
    "items": [
     {
      "aliases": [],
      "languageName": "csharp",
      "name": "csharp"
     }
    ]
   }
  }
 },
 "nbformat": 4,
 "nbformat_minor": 2
}
